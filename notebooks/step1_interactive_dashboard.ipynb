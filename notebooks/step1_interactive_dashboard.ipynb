{
 "cells": [
  {
   "cell_type": "markdown",
   "metadata": {
    "extensions": {
     "jupyter_dashboards": {
      "version": 1,
      "views": {
       "default_view": {
        "col": 0,
        "height": 2,
        "row": 47,
        "width": 12
       }
      }
     }
    }
   },
   "source": [
    "## Intended for `voila-gridstack`\n",
    "Meaning that the output layouts are optimized for the [voila](https://github.com/voila-dashboards/voila-gridstack) interface. \n",
    "\n",
    "#### You can still execute the cells sequentially to interact with inline outputs."
   ]
  },
  {
   "cell_type": "code",
   "execution_count": null,
   "metadata": {
    "extensions": {
     "jupyter_dashboards": {
      "version": 1,
      "views": {
       "default_view": {
        "hidden": true
       }
      }
     }
    }
   },
   "outputs": [],
   "source": [
    "from __future__ import print_function\n",
    "from scipy.io import loadmat\n",
    "import pandas as pd\n",
    "from ipywidgets import interact, interactive, fixed, interact_manual\n",
    "import ipywidgets as widgets\n",
    "import joypy\n",
    "import pandas as pd\n",
    "import numpy as np\n",
    "from matplotlib import pyplot as plt\n",
    "from matplotlib import cm\n",
    "from matplotlib.colors import ListedColormap, LinearSegmentedColormap\n",
    "import feather\n",
    "from IPython.display import display\n",
    "import warnings\n",
    "warnings.filterwarnings(\"ignore\")\n",
    "import os\n",
    "filesep = os.path.sep"
   ]
  },
  {
   "cell_type": "markdown",
   "metadata": {
    "extensions": {
     "jupyter_dashboards": {
      "version": 1,
      "views": {
       "default_view": {
        "col": 0,
        "height": 3,
        "row": 0,
        "width": 12
       }
      }
     }
    }
   },
   "source": [
    "For each subject, you can switch between different histograms (`original`,`modzscore`,`modzscore_reduced`) to compare a selected muscle part for the respective shift function. You can isolate C<sup>α=σ</sup> combinations for easier comparison with their HSF counterparts.\n",
    "\n",
    "You can isolate shift functions for a muscle part (double click in the legend) and hover over plotted objects to see corresponding values."
   ]
  },
  {
   "cell_type": "code",
   "execution_count": null,
   "metadata": {
    "extensions": {
     "jupyter_dashboards": {
      "version": 1,
      "views": {
       "default_view": {
        "hidden": true
       }
      }
     }
    }
   },
   "outputs": [],
   "source": [
    "# !!!!!!!!!!!!!!!!!!!!!!!!!!!!!!!!!!!!!!!!!!!\n",
    "# PLEASE PROVIDE Stats_derivatives folder path if you are executing this notebook locally\n",
    "datDir = '/tmp/Stats_derivatives'"
   ]
  },
  {
   "cell_type": "code",
   "execution_count": null,
   "metadata": {
    "extensions": {
     "jupyter_dashboards": {
      "version": 1,
      "views": {
       "default_view": {
        "hidden": true
       }
      }
     }
    }
   },
   "outputs": [],
   "source": [
    "def vectorize_mat(filename,region):\n",
    "    mat = loadmat(filename)\n",
    "    tmp = mat[region]\n",
    "    tmp = tmp['scalars']\n",
    "    tmp = np.squeeze(tmp[:,0][0])\n",
    "    vec = tmp.tolist()\n",
    "    return vec\n",
    "\n",
    "def getTableParts(sub,regn,trsf):\n",
    "    idx = [4,6,8,10]\n",
    "    aa = []\n",
    "    bb=[]\n",
    "    # Follow sigma first order for consistency between figures\n",
    "    # Sigma |4|6|8|10|4|6|8|10|...\n",
    "    # Alpha |4|4|4|4 |6|6|6|6 |...\n",
    "    for jj in idx:\n",
    "        for ii in idx: \n",
    "            if trsf == 'modzscore':\n",
    "                curVec = vectorize_mat(datDir + filesep + 'FiberStrain_mzscore'+ filesep + 'sub' + sub + '_sigma' + str(ii) + '_alpha' + str(jj) + '_modzscore.mat',regn)\n",
    "            elif trsf == 'orig':  \n",
    "                curVec = vectorize_mat(datDir + filesep + 'FiberStrain_parts' + filesep +  'sub' + sub + '_sigma' + str(ii) + '_alpha' + str(jj) + '_seg10.mat',regn)\n",
    "            elif trsf == 'reduced':\n",
    "                curVec = vectorize_mat(datDir + filesep + 'FiberStrain_mzscore_reduced'+ filesep + 'sub' + sub + '_sigma' + str(ii) + '_alpha' + str(jj) + '_modzscore_reduced.mat',regn)\n",
    "            aa.append(curVec)\n",
    "            # Enforce consistent alphabetical order\n",
    "            if ii!=10 and jj!=10:\n",
    "                bb.append(['alpha0' + str(jj) + '_sigma0' + str(ii)]*len(curVec))\n",
    "            elif ii==10 and jj!=10:    \n",
    "                bb.append(['alpha0' + str(jj) + '_sigma' + str(ii)]*len(curVec))\n",
    "            elif ii!=10 and jj==10:    \n",
    "                bb.append(['alpha' + str(jj) + '_sigma0' + str(ii)]*len(curVec))\n",
    "            else:\n",
    "                 bb.append(['alpha' + str(jj) + '_sigma' + str(ii)]*len(curVec))\n",
    "                    \n",
    "    aa = np.array(aa)\n",
    "    bb = np.array(bb)    \n",
    "    aa = aa.flatten()\n",
    "    bb = bb.flatten()\n",
    "    dat = {'str':aa,'lbl':bb}\n",
    "    df = pd.DataFrame(data=dat)\n",
    "    return df\n",
    "\n",
    "def getTablePartsEqual(sub,regn,trsf,idx):\n",
    "    aa = []\n",
    "    bb=[]\n",
    "\n",
    "    for ii in idx:\n",
    "        if trsf == 'modzscore':\n",
    "            curVec = vectorize_mat(datDir + filesep + 'FiberStrain_mzscore'+ filesep + 'sub' + sub + '_sigma' + str(ii) + '_alpha' + str(ii) + '_modzscore.mat',regn)\n",
    "        elif trsf == 'orig':  \n",
    "            curVec = vectorize_mat(datDir + filesep  + 'FiberStrain_parts' + filesep  + 'sub' + sub + '_sigma' + str(ii) + '_alpha' + str(ii) + '_seg10.mat',regn)\n",
    "        elif trsf == 'reduced':\n",
    "            curVec = vectorize_mat(datDir + filesep + 'FiberStrain_mzscore_reduced'+ filesep + 'sub' + sub + '_sigma' + str(ii) + '_alpha' + str(ii) + '_modzscore_reduced.mat',regn)\n",
    "        # Enforce consistent order\n",
    "        aa.append(curVec) \n",
    "        if ii!=10:\n",
    "            bb.append(['sigma0' + str(ii) + '_alpha0' + str(ii)]*len(curVec))\n",
    "        else:\n",
    "            bb.append(['sigma' + str(ii) + '_alpha' + str(ii)]*len(curVec))\n",
    "        \n",
    " \n",
    "    aa = np.array(aa)\n",
    "    bb = np.array(bb)    \n",
    "    aa = aa.flatten()\n",
    "    bb = bb.flatten()\n",
    "    dat = {'str':aa,'lbl':bb}\n",
    "    df = pd.DataFrame(data=dat)\n",
    "    return df\n",
    "\n",
    "%matplotlib inline\n",
    "def on_change(Subject,Segment,Equals,C_44,C_66,C_88,C_1010,section):\n",
    "    # If equal combinations are selected, further allow user to \n",
    "    # display a selection. Collect their idx here based on the \n",
    "    # checkbox vals\n",
    "    if Equals:\n",
    "        selectC = [{'4':C_44},{'6':C_66},{'8':C_88},{'10':C_1010}]\n",
    "        eqIdxs = []\n",
    "        for c in selectC:\n",
    "            for key, value in c.items():\n",
    "                if c[key]:\n",
    "                     eqIdxs.append(int(key))\n",
    "    else:\n",
    "        eqIdxs = []\n",
    "    \n",
    "    # Sync colors with those in the HSF grid                \n",
    "    colorPairs = {'p4':'#762a83','p3':'#9970ab','p2':'#c2a5cf','p1':'#e7d4e8','m1':'#e08214','m2':'#fdb863','d1':'#e6f5d0','d2':'#b8e186','d3':'#7fbc41','d4':'#4d9221'}\n",
    "    \n",
    "    if section=='original':\n",
    "        # Show original histogramgs\n",
    "        if not Equals:\n",
    "            df1 =getTableParts(Subject,Segment,'orig')\n",
    "        else:\n",
    "            df1 =getTablePartsEqual(Subject,Segment,'orig',eqIdxs)\n",
    "        fig, ax = joypy.joyplot(df1, by=\"lbl\", column=\"str\", range_style='own', \n",
    "                              grid='y', linewidth=1, legend=False, fade=True, figsize=(9,8),\n",
    "                              title=Subject+ ' ' + Segment + ' Original',\n",
    "                              kind=\"kde\", bins=20,colormap=ListedColormap([colorPairs[Segment]]),background='w',ylabelsize=8)\n",
    "    if section=='mzscore':\n",
    "        # Show modified z-scored histograms \n",
    "        if not Equals:\n",
    "            df2 =getTableParts(Subject,Segment,'modzscore')\n",
    "        else:\n",
    "            df2 =getTablePartsEqual(Subject,Segment,'modzscore',eqIdxs)\n",
    "        fig, ax = joypy.joyplot(df2, by=\"lbl\", column=\"str\", range_style='own', grid='y', \n",
    "                              linewidth=1, legend=False, fade=True, figsize=(9,8),\n",
    "                              title=Subject+ ' ' + Segment + ' Mod. z-score',\n",
    "                              kind=\"kde\", bins=20,colormap=ListedColormap([colorPairs[Segment]]),background='w', ylabelsize=8)\n",
    "    if section=='mzscore-reduced':\n",
    "        # Show histograms after uniform (spatial) downsampling of modified z-scores\n",
    "        if not Equals:\n",
    "            df3 =getTableParts(Subject,Segment,'reduced')\n",
    "        else:\n",
    "            df3 =getTablePartsEqual(Subject,Segment,'reduced',eqIdxs)\n",
    "        df2 =getTableParts(Subject,Segment,'reduced')\n",
    "        fig, ax = joypy.joyplot(df3, by=\"lbl\", column=\"str\", range_style='own', \n",
    "                              grid=\"y\", linewidth=1, legend=False, fade=True, figsize=(9,8),\n",
    "                              title=Subject+ ' ' + Segment + ' Mod. z-score downsampled',\n",
    "                              kind=\"kde\", bins=20,colormap=ListedColormap([colorPairs[Segment]]),background='w', ylabelsize=8)\n",
    "        plt.show()"
   ]
  },
  {
   "cell_type": "code",
   "execution_count": null,
   "metadata": {
    "extensions": {
     "jupyter_dashboards": {
      "version": 1,
      "views": {
       "default_view": {
        "col": 0,
        "height": 21,
        "row": 3,
        "width": 4
       }
      }
     }
    }
   },
   "outputs": [],
   "source": [
    "def getUI():\n",
    "    subject = widgets.Dropdown(\n",
    "        options=['A', 'B', 'C','D','E'],\n",
    "        value='A',\n",
    "        description='Subject:',\n",
    "        disabled=False,\n",
    "        width = 100)\n",
    "    part = widgets.Dropdown(\n",
    "        options=['p4','p3','p2','p1','m1','m2','d1','d2','d3','d4'],\n",
    "        value='p4',\n",
    "        description='Muscle part:',\n",
    "        disabled=False,\n",
    "        width = 100)\n",
    "    buttons = widgets.ToggleButtons(\n",
    "        options=['original', 'mzscore', 'mzscore-reduced'],\n",
    "        description='Speed:',\n",
    "        disabled=False,\n",
    "        button_style='', # 'success', 'info', 'warning', 'danger' or ''\n",
    "        tooltips=['Original distributions', 'Distributions after modified z-score standardization', 'Uniform down-sampled modified z-score distributions'],\n",
    "        layout = widgets.Layout(width='100%'))\n",
    "    equals = widgets.Checkbox(\n",
    "        value=False,\n",
    "        description='<b>C<sup>α=σ</sup></b>',\n",
    "        disabled=False,\n",
    "        indent=False\n",
    "    )\n",
    "    c_44 = widgets.Checkbox(\n",
    "        value=False,\n",
    "        description='C<sup><4,4></sup>',\n",
    "        disabled=False,\n",
    "        indent=False\n",
    "    )\n",
    "    c_66 = widgets.Checkbox(\n",
    "        value=False,\n",
    "        description='C<sup><6,6></sup>',\n",
    "        disabled=False,\n",
    "        indent=False\n",
    "    )\n",
    "    c_88 = widgets.Checkbox(\n",
    "        value=False,\n",
    "        description='C<sup><8,8></sup>',\n",
    "        disabled=False,\n",
    "        indent=False\n",
    "    )\n",
    "    c_1010 = widgets.Checkbox(\n",
    "        value=False,\n",
    "        description='C<sup><10,10></sup>',\n",
    "        disabled=False,\n",
    "        indent=False\n",
    "    )\n",
    "    layout=widgets.Layout(width='90%')\n",
    "    layout2=widgets.Layout(flex='1 1 auto',width='80%',margin='0% 0% 0% 10%')\n",
    "    ui = widgets.VBox([widgets.HBox([subject, part],layout=layout),buttons,widgets.HBox([equals,c_44,c_66,c_88,c_1010],layout=layout2)])\n",
    "    out = widgets.interactive_output(on_change, {'Subject': subject, 'Segment': part, 'Equals': equals,'C_44':c_44,'C_66':c_66,'C_88':c_88,'C_1010':c_1010,'section':buttons})\n",
    "    return ui, out\n",
    "\n",
    "aa,bb=getUI()\n",
    "display(aa,bb)\n"
   ]
  },
  {
   "cell_type": "markdown",
   "metadata": {},
   "source": [
    "## IMPORTANT NOTE\n",
    "\n",
    "The interactive figure visualized below (`HSF_GRID.html`) was generated by the `step3_runHSF_and_visualize.ipynb` notebook to enable side by side comparison of the HSF results with the histograms on the voila dashboard. \n",
    "\n",
    "* If you don't have HSF_GRID.html in the same folder with this notebook, please run `step3` notebook to generate one. "
   ]
  },
  {
   "cell_type": "code",
   "execution_count": null,
   "metadata": {
    "extensions": {
     "jupyter_dashboards": {
      "version": 1,
      "views": {
       "default_view": {
        "col": 4,
        "height": 19,
        "row": 3,
        "width": 8
       }
      }
     }
    }
   },
   "outputs": [],
   "source": [
    "file = './HSF_GRID.html'\n",
    "from IPython.display import IFrame\n",
    "IFrame(src=file, width=1100, height=1100)"
   ]
  }
 ],
 "metadata": {
  "extensions": {
   "jupyter_dashboards": {
    "activeView": "default_view",
    "version": 1,
    "views": {
     "default_view": {
      "cellMargin": 10,
      "defaultCellHeight": 40,
      "maxColumns": 12,
      "name": "active_view",
      "type": "grid"
     }
    }
   }
  },
  "kernelspec": {
   "display_name": "Python 3",
   "language": "python",
   "name": "python3"
  },
  "language_info": {
   "codemirror_mode": {
    "name": "ipython",
    "version": 3
   },
   "file_extension": ".py",
   "mimetype": "text/x-python",
   "name": "python",
   "nbconvert_exporter": "python",
   "pygments_lexer": "ipython3",
   "version": "3.6.12"
  }
 },
 "nbformat": 4,
 "nbformat_minor": 2
}
