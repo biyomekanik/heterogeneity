{
 "cells": [
  {
   "cell_type": "code",
   "execution_count": null,
   "metadata": {},
   "outputs": [],
   "source": [
    "from __future__ import print_function\n",
    "from scipy.io import loadmat\n",
    "import numpy as np\n",
    "import feather\n",
    "import pandas as pd\n",
    "import os\n",
    "filesep = os.path.sep"
   ]
  },
  {
   "cell_type": "markdown",
   "metadata": {},
   "source": [
    "## Save R compatible dataframes for HSF analysis\n",
    "Please set `datDir` to the absolute path of the `StatDerivatives` folder. This script will read the modified z-score transformed and uniformly downsampled pointclouds from the `Reduced_MZS_Fibers` directory then save R compatible dataframes in the `HSF_Inputs` (relative) directory. These comparisons are made for equal parameter value combinations (4 alpha=sigma, paired combinations of 6).\n",
    "\n",
    "You can download the dataset from here."
   ]
  },
  {
   "cell_type": "code",
   "execution_count": null,
   "metadata": {},
   "outputs": [],
   "source": [
    "# !!!!!!!!!!!!!!!!!!!!!!!!!!!!!!!!!!!!!!!!!!!\n",
    "# PLEASE PROVIDE Stats_derivatives folder path if you are running this notebook locally\n",
    "datDir = '/tmp/Stats_derivatives'"
   ]
  },
  {
   "cell_type": "code",
   "execution_count": null,
   "metadata": {},
   "outputs": [],
   "source": [
    "# Specify output directory w.r.t input directory\n",
    "\n",
    "outDir = datDir + filesep + 'HSF_Inputs'\n",
    "if not os.path.exists(outDir):\n",
    "    os.mkdir(outDir)\n",
    "\n",
    "def vectorize_mat(filename,region):\n",
    "    mat = loadmat(filename)\n",
    "    tmp = mat[region]\n",
    "    tmp = tmp['scalars']\n",
    "    tmp = np.squeeze(tmp[:,0][0])\n",
    "    vec = tmp.tolist()\n",
    "    return vec\n",
    "\n",
    "def getHSFTable(sub,idxs):\n",
    "    regs = ['p4','p3','p2','p1','m1','m2','d1','d2','d3','d4']\n",
    "    vals = []\n",
    "    conds=[]\n",
    "    segs = []\n",
    "    for ii in idxs:\n",
    "        for reg in regs: \n",
    "            curVec = vectorize_mat(datDir + filesep + 'FiberStrain_mzscore_reduced' + filesep + 'sub' + sub + '_sigma' + str(ii) + '_alpha' + str(ii) + '_modzscore_reduced.mat',reg)\n",
    "            vals.append(curVec)\n",
    "            conds.append(['sigma' + str(ii) + '_alpha' + str(ii)]*len(curVec))\n",
    "            segs.append([reg]*len(curVec))\n",
    "                    \n",
    "    vals = np.array(vals)\n",
    "    conds = np.array(conds)\n",
    "    segs = np.array(segs)  \n",
    "    vals = vals.flatten()\n",
    "    conds = conds.flatten()\n",
    "    segs = segs.flatten()\n",
    "    dat = {'str':vals,'conds':conds,'segments':segs}\n",
    "    df = pd.DataFrame(data=dat)\n",
    "    return df\n",
    "\n",
    "def writeHSFEqual(subID):\n",
    "    # Create a matching naming convention of equal parameter combinations \n",
    "    # to read feathers in R with easy semantics.\n",
    "    lookup = [{'44_66':[4,6]},{'44_88':[4,8]},{'44_1010':[4,10]},{'66_88':[6,8]},{'66_1010':[6,10]},{'88_1010':[8,10]}]\n",
    "    svFormat = '.file'\n",
    "    for cd in lookup:\n",
    "        for key, value in cd.items():\n",
    "            cur_df = getHSFTable(subID,cd[key])\n",
    "            print('Saving: ' + outDir + filesep + 'sub' + subID + '_reduced_' + key + svFormat)\n",
    "            feather.write_dataframe(cur_df,outDir + filesep + 'sub' + subID + '_reduced_' + key + svFormat)\n",
    "    print('DONE...')"
   ]
  },
  {
   "cell_type": "code",
   "execution_count": null,
   "metadata": {},
   "outputs": [],
   "source": [
    "writeHSFEqual('A')\n",
    "writeHSFEqual('B')\n",
    "writeHSFEqual('C')\n",
    "writeHSFEqual('D')\n",
    "writeHSFEqual('E')"
   ]
  }
 ],
 "metadata": {
  "kernelspec": {
   "display_name": "Python 3",
   "language": "python",
   "name": "python3"
  },
  "language_info": {
   "codemirror_mode": {
    "name": "ipython",
    "version": 3
   },
   "file_extension": ".py",
   "mimetype": "text/x-python",
   "name": "python",
   "nbconvert_exporter": "python",
   "pygments_lexer": "ipython3",
   "version": "3.6.12"
  }
 },
 "nbformat": 4,
 "nbformat_minor": 4
}
